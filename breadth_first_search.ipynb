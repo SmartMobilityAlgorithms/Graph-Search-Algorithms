{
 "cells": [
  {
   "cell_type": "markdown",
   "metadata": {},
   "source": [
    "# Breadth First Search\n",
    "\n",
    "We will be trying to find and visualize the path between Equestrian Statue of Edward VII and Bahen Center of Technology around Toronto University campus using breadth first search"
   ]
  },
  {
   "cell_type": "markdown",
   "metadata": {},
   "source": [
    "\n",
    "__BREADTH-FIRST-SEARCH__ ( _source_ , _destination_ ) __return__ a route \n",
    "&emsp;_frontier_ &larr; a **FIFO** initialized with _source_ node  \n",
    "&emsp;_explored_ &larr; _empty_    \n",
    "&emsp;_found_ &larr; _False_  \n",
    "&emsp;__while__  _frontier_ __is not__ _empty_ __and__ _found_ __is__ _False_ __do__  \n",
    "&emsp;&emsp;&emsp;_node_ &larr; _frontier_.pop()   \n",
    "&emsp;&emsp;&emsp;__add__ _node_ __to__ _explored_    \n",
    "&emsp;&emsp;&emsp;__for__ _child_ __in__ _node_.expand() __do__   \n",
    "&emsp;&emsp;&emsp;&emsp;&emsp;__if__ _child_ __is not in__ _explored_ __and__ _child_ __is not in__ _frontier_   __then__  \n",
    "&emsp;&emsp;&emsp;&emsp;&emsp;&emsp;&emsp; __if__ _child_ __is__ _destination_ __then__  \n",
    "&emsp;&emsp;&emsp;&emsp;&emsp;&emsp;&emsp;&emsp;&emsp; _route_ &larr; _child_.route()  \n",
    "&emsp;&emsp;&emsp;&emsp;&emsp;&emsp;&emsp;&emsp;&emsp; _found_ &larr; _True_  \n",
    "&emsp;&emsp;&emsp;&emsp;&emsp;&emsp;&emsp;__add__ _child_ __to__ _frontier_    \n",
    "&emsp;__return__  _route_"
   ]
  },
  {
   "cell_type": "code",
   "execution_count": null,
   "metadata": {},
   "outputs": [],
   "source": [
    "%%capture\n",
    "\n",
    "##############################################################################\n",
    "# IGNORE if you are running on a local machine and have all the dependencies #\n",
    "##############################################################################\n",
    "\n",
    "# installing dependencies --- to be able to run on google colab\n",
    "# it would take 2-3 minutes\n",
    "!apt-get install libspatialindex-c4v5;\n",
    "!pip3 install Rtree;\n",
    "!pip3 install osmnx;\n",
    "!pip3 install tqdm;\n",
    "!pip3 install ipyleaflet\n",
    "\n",
    "# You need to upload Utilities.zip in /content directory which is the default\n",
    "!unzip Utilities.zip"
   ]
  },
  {
   "cell_type": "code",
   "execution_count": 2,
   "metadata": {},
   "outputs": [],
   "source": [
    "import osmnx as ox\n",
    "import time\n",
    "from tqdm import tqdm\n",
    "from collections import deque\n",
    "from Utilities.utils import *"
   ]
  },
  {
   "cell_type": "markdown",
   "metadata": {},
   "source": [
    "Here OSMnx find the largest connected component centered around the ```location point``` with specified ```dist``` on each side (w/n/e/s)."
   ]
  },
  {
   "cell_type": "code",
   "execution_count": null,
   "metadata": {},
   "outputs": [],
   "source": [
    "location_point = (43.661667, -79.395)\n",
    "G = ox.graph_from_point(location_point, dist=300, clean_periphery=True, simplify=True)"
   ]
  },
  {
   "cell_type": "markdown",
   "metadata": {},
   "source": [
    "Here you need to specify which node from our graph is the source (Equestrian Statue of Edward VII) and which is the destination node (Bahen Center of Technology). You can do so by acquiring the decimal coordinates of the desired node and use [```osmnx.distance.get_nearest_node```](https://osmnx.readthedocs.io/en/stable/osmnx.html#osmnx.distance.get_nearest_node) method"
   ]
  },
  {
   "cell_type": "markdown",
   "metadata": {},
   "source": [
    "I used the aforementioned method and found that the osmid of the nodes for destination and source are 389677909, 55808290 respectively"
   ]
  },
  {
   "cell_type": "code",
   "execution_count": null,
   "metadata": {},
   "outputs": [],
   "source": [
    "highlighted = [389677909, 55808290]\n",
    "\n",
    "# marking both the source and destination node\n",
    "\n",
    "nc = ['r' if node in highlighted else '#336699' for node in G.nodes()]\n",
    "ns = [50 if node in highlighted else 8 for node in G.nodes()]\n",
    "fig, ax = ox.plot_graph(G, node_size=ns, node_color=nc, node_zorder=2)"
   ]
  },
  {
   "cell_type": "code",
   "execution_count": null,
   "metadata": {},
   "outputs": [],
   "source": [
    "draw_map(G, highlight = highlighted)"
   ]
  },
  {
   "cell_type": "markdown",
   "metadata": {},
   "source": [
    "Each node in our graph is represented as a dictionary so manipulating them would obfuscate the algorithm manipulating them and would be unnecessary expensive computationally <b>so</b> we define class ```Node``` only retains the data we need to be able to do searching and traversing.\n",
    "\n",
    "Please check its source code in ```./Utilities/utils/oxm.py``` to know how it capture the data from the graph"
   ]
  },
  {
   "cell_type": "code",
   "execution_count": null,
   "metadata": {},
   "outputs": [],
   "source": [
    "%%capture\n",
    "source(Node)"
   ]
  },
  {
   "cell_type": "markdown",
   "metadata": {},
   "source": [
    "# The Algorithm"
   ]
  },
  {
   "cell_type": "code",
   "execution_count": null,
   "metadata": {},
   "outputs": [],
   "source": [
    "# first define the origin/source nodes as Node\n",
    "origin = Node(graph = G, osmid = 55808290)\n",
    "destination = Node(graph = G, osmid = 389677909)"
   ]
  },
  {
   "cell_type": "code",
   "execution_count": null,
   "metadata": {},
   "outputs": [],
   "source": [
    "bar = tqdm(total=len(G))\n",
    "\n",
    "route = []\n",
    "frontier = deque([origin])\n",
    "explored = set()\n",
    "found = False\n",
    "while frontier and not found:\n",
    "    bar.update(1); time.sleep(0.1)\n",
    "    node = frontier.popleft()\n",
    "    explored.add(node)\n",
    "    for child in node.expand():\n",
    "        if child not in explored and child not in frontier:\n",
    "            if child == destination:\n",
    "                route, cost = child.path()\n",
    "                found = True\n",
    "            frontier.append(child)\n",
    "\n",
    "bar.close()\n",
    "print(\"The route is \\n\\n\",route, \"\\n\\nits cost is\\n\\n\", cost)"
   ]
  },
  {
   "cell_type": "code",
   "execution_count": null,
   "metadata": {},
   "outputs": [],
   "source": [
    "fig, ax = ox.plot_graph_route(G, route)"
   ]
  },
  {
   "cell_type": "code",
   "execution_count": null,
   "metadata": {},
   "outputs": [],
   "source": [
    "draw_route(G, route)"
   ]
  },
  {
   "cell_type": "code",
   "execution_count": null,
   "metadata": {},
   "outputs": [],
   "source": [
    "G = ox.graph_from_xml(\"./export.osm\", retain_all = True)"
   ]
  },
  {
   "cell_type": "code",
   "execution_count": null,
   "metadata": {},
   "outputs": [],
   "source": [
    "fig, ax = ox.plot_graph(G)"
   ]
  },
  {
   "cell_type": "code",
   "execution_count": null,
   "metadata": {},
   "outputs": [],
   "source": [
    "G1 = ox.graph_to_gdfs(G)"
   ]
  },
  {
   "cell_type": "code",
   "execution_count": null,
   "metadata": {},
   "outputs": [],
   "source": [
    "G1[0]"
   ]
  },
  {
   "cell_type": "code",
   "execution_count": null,
   "metadata": {},
   "outputs": [],
   "source": [
    "G1[1]"
   ]
  },
  {
   "cell_type": "code",
   "execution_count": null,
   "metadata": {},
   "outputs": [],
   "source": [
    "from time import sleep\n",
    "from ipyleaflet import *\n",
    "\n",
    "m = Map(center=(52, 10), zoom=8, basemap=basemaps.Hydda.Full)\n",
    "\n"
   ]
  },
  {
   "cell_type": "code",
   "execution_count": null,
   "metadata": {},
   "outputs": [],
   "source": [
    "mark = Marker(location=(51.5, 10))\n",
    "m.add_layer(mark)\n",
    "nb_steps = 10\n",
    "step = 0.1\n",
    "start_location = mark.location\n",
    "end_location = (52.2, 10)\n",
    "\n",
    "for i in range(nb_steps + 1):\n",
    "    precentage_animation = i / nb_steps\n",
    "    a = 1 - precentage_animation\n",
    "    b = precentage_animation\n",
    "    mark.location = (a * start_location[0] + b * end_location[0], a*start_location[1] + b*end_location[1])\n",
    "    sleep(step)"
   ]
  },
  {
   "cell_type": "code",
   "execution_count": null,
   "metadata": {},
   "outputs": [],
   "source": []
  }
 ],
 "metadata": {
  "kernelspec": {
   "display_name": "Python 3",
   "language": "python",
   "name": "python3"
  },
  "language_info": {
   "codemirror_mode": {
    "name": "ipython",
    "version": 3
   },
   "file_extension": ".py",
   "mimetype": "text/x-python",
   "name": "python",
   "nbconvert_exporter": "python",
   "pygments_lexer": "ipython3",
   "version": "3.6.9"
  }
 },
 "nbformat": 4,
 "nbformat_minor": 4
}
