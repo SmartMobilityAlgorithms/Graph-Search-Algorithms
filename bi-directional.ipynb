{
 "cells": [
  {
   "cell_type": "markdown",
   "metadata": {},
   "source": [
    "# Bi-directional Search\n",
    "\n",
    "The point of bidirectional search is to run two simultaneous, not parallel, search from the origin and destination node hoping that they would meet in the middle.  \n",
    "\n",
    "**but** why?  \n",
    "\n",
    "Imagine that you are doing BFS in a graph with a constant branching factor $b$ and depth $d$ so the complexity would be $O({d}^b)$ but what if we split that depth $d$ in half (that usually doesn't happen) so the total complexity would be $O({(d/2)}^b) + O({(d/2)}^b)$ which is in total much lower than $O({d}^b)$.  \n",
    "\n",
    "Let's see some pictures, sorry for the paint-level editing in advance."
   ]
  },
  {
   "cell_type": "markdown",
   "metadata": {},
   "source": [
    "This is a uni-directional breadth first search."
   ]
  },
  {
   "cell_type": "markdown",
   "metadata": {},
   "source": [
    "![title](./images/Uni-BFS.png)"
   ]
  },
  {
   "cell_type": "markdown",
   "metadata": {},
   "source": [
    "This is bi-directional breadth first search"
   ]
  },
  {
   "cell_type": "markdown",
   "metadata": {},
   "source": [
    "![title](./images/Bi-BFS.jpg)"
   ]
  },
  {
   "cell_type": "markdown",
   "metadata": {},
   "source": [
    "As you can see how many (blue) nodes that didn't contribute to the solution didn't get expanded in the bi-driectional search, skipping the expansion of more than half of the nodes."
   ]
  },
  {
   "cell_type": "markdown",
   "metadata": {},
   "source": [
    "__Bi_DIRECTIONAL_SEARCH__ ( _source_ , _destination_ ) __returns__ a route   \n",
    "\n",
    "&emsp; // f stands for source/front expansion and b stands for destination/back expansion  \n",
    "\n",
    "&emsp; _frontier\\_f_ &larr; initialized with _source_  \n",
    "&emsp; _frontier\\_b_ &larr; initialized with _destination_  \n",
    "&emsp; _explored\\_f_ &larr; empty  \n",
    "&emsp; _explored\\_b_ &larr; empty  \n",
    "&emsp; _collide_ &larr; _False_ &emsp;&emsp; // if front expansion overlapped with back expansion  \n",
    "&emsp; _found_ &larr; _False_ &emsp;&emsp; // if we found the destination from a single expansion which if you think about it, will never happen  \n",
    "&emsp; _altr\\_expand_ &larr; _False_ &emsp;&emsp; // To alternate between expansion from front and back  \n",
    "\n",
    "&emsp; __while__ _frontier\\_f_ __is not__ empty __and__ _frontier\\_b_ __is not__ empty __and__ __not__ _collide_ __and__ __not__ _found_ __do__  \n",
    "&emsp;&emsp; __if__ _altr\\_expand_ __then__  \n",
    "&emsp;&emsp;&emsp; _node_ &larr; _frontier\\_f_.pop()   \n",
    "&emsp;&emsp;&emsp; __add__ _node_ __to__ _explored_f_  \n",
    "&emsp;&emsp;&emsp; __for__ _child_ __in__ _node_.expand() __do__  \n",
    "&emsp;&emsp;&emsp;&emsp; __if__ _child_ __in__ _explored\\_f_ __then__ continue  \n",
    "&emsp;&emsp;&emsp;&emsp; __if__ _child_ __is__ _destination_ __then__  \n",
    "&emsp;&emsp;&emsp;&emsp;&emsp; _route_ &larr; _child_.route()  \n",
    "&emsp;&emsp;&emsp;&emsp;&emsp; _found_ &larr; _True_  \n",
    "&emsp;&emsp;&emsp;&emsp; __if__ _child_ __is in__ _explored_b_ __then__ &emsp;//overlapping -- met in the middle  \n",
    "&emsp;&emsp;&emsp;&emsp;&emsp; _route_ &larr; _child_.route() + reverse( _overlapped_.route() )  \n",
    "&emsp;&emsp;&emsp;&emsp;&emsp; _collid_ &larr; _True_  \n",
    "&emsp;&emsp;&emsp;&emsp; __add__ _child_ __to__ _frontier\\_f_  \n",
    "&emsp;&emsp; __else__  \n",
    "&emsp;&emsp;&emsp; _node_ &larr;  _frontier\\_b_.pop()  \n",
    "&emsp;&emsp;&emsp; __add__ _node_ __to__ _explored\\_b_  \n",
    "&emsp;&emsp;&emsp; __for__ _child_ __in__ _node_.expand() __do__  \n",
    "&emsp;&emsp;&emsp;&emsp; __if__ _child_ __in__ _explored\\_b_ __then__ continue  \n",
    "&emsp;&emsp;&emsp;&emsp; __if__ _child_ __is__ _destination_ __then__  \n",
    "&emsp;&emsp;&emsp;&emsp;&emsp; _route_ &larr; _child_.route()  \n",
    "&emsp;&emsp;&emsp;&emsp;&emsp; _found_ &larr; _True_  \n",
    "&emsp;&emsp;&emsp;&emsp; __if__ _child_ __is in__ _explored_f_ __then__ &emsp;//overlapping -- met in the middle  \n",
    "&emsp;&emsp;&emsp;&emsp;&emsp; _route_ &larr; reverse( _child_.route() ) + _overlapped_.route()  \n",
    "&emsp;&emsp;&emsp;&emsp;&emsp; _collid_ &larr; _True_  \n",
    "&emsp;&emsp;&emsp;&emsp; __add__ _child_ __to__ _frontier\\_b_  \n",
    "&emsp; __return__ _route_"
   ]
  },
  {
   "cell_type": "markdown",
   "metadata": {},
   "source": [
    "# The Algorithm"
   ]
  },
  {
   "cell_type": "code",
   "execution_count": 1,
   "metadata": {},
   "outputs": [],
   "source": [
    "import osmnx as ox\n",
    "import time, sys\n",
    "from collections import deque\n",
    "from tqdm import tqdm\n",
    "from utilities import *"
   ]
  },
  {
   "cell_type": "markdown",
   "metadata": {},
   "source": [
    "let's load our beloved UofT map"
   ]
  },
  {
   "cell_type": "code",
   "execution_count": 2,
   "metadata": {},
   "outputs": [
    {
     "data": {
      "text/plain": [
       "['HTML',\n",
       " 'HtmlFormatter',\n",
       " 'IFrame',\n",
       " 'In',\n",
       " 'LineCollection',\n",
       " 'Node',\n",
       " 'Out',\n",
       " 'PythonLexer',\n",
       " '_',\n",
       " '__',\n",
       " '___',\n",
       " '__builtin__',\n",
       " '__builtins__',\n",
       " '__doc__',\n",
       " '__loader__',\n",
       " '__name__',\n",
       " '__package__',\n",
       " '__spec__',\n",
       " '_dh',\n",
       " '_i',\n",
       " '_i1',\n",
       " '_i2',\n",
       " '_ih',\n",
       " '_ii',\n",
       " '_iii',\n",
       " '_oh',\n",
       " 'animate_simple',\n",
       " 'animation',\n",
       " 'astar_heuristic',\n",
       " 'attrgetter',\n",
       " 'children_route',\n",
       " 'common',\n",
       " 'copy',\n",
       " 'cost',\n",
       " 'cost_tour',\n",
       " 'deque',\n",
       " 'display',\n",
       " 'draw_map',\n",
       " 'draw_route',\n",
       " 'exit',\n",
       " 'exp_schedule',\n",
       " 'fl',\n",
       " 'flatten',\n",
       " 'get_ipython',\n",
       " 'getsource',\n",
       " 'heapq',\n",
       " 'highlight',\n",
       " 'itertools',\n",
       " 'jupyter',\n",
       " 'lf',\n",
       " 'math',\n",
       " 'np',\n",
       " 'numpy',\n",
       " 'nx',\n",
       " 'osmnx',\n",
       " 'ox',\n",
       " 'pandas',\n",
       " 'plt',\n",
       " 'probability',\n",
       " 'problem',\n",
       " 'quit',\n",
       " 'random',\n",
       " 'randomized_search',\n",
       " 'shortest_path_with_failed_nodes',\n",
       " 'source',\n",
       " 'src',\n",
       " 'sys',\n",
       " 'time',\n",
       " 'tqdm',\n",
       " 'update_plot',\n",
       " 'viz']"
      ]
     },
     "execution_count": 2,
     "metadata": {},
     "output_type": "execute_result"
    }
   ],
   "source": [
    "dir()"
   ]
  },
  {
   "cell_type": "code",
   "execution_count": 3,
   "metadata": {},
   "outputs": [
    {
     "ename": "Exception",
     "evalue": "Server returned\n<Response [405]> Method Not Allowed\n<!DOCTYPE html PUBLIC \"-//W3C//DTD XHTML 1.0 Strict//EN\" \"http://www.w3.org/TR/xhtml1/DTD/xhtml1-strict.dtd\">\r\n<html xmlns=\"http://www.w3.org/1999/xhtml\">\r\n<head>\r\n<meta http-equiv=\"Content-Type\" content=\"text/html; charset=iso-8859-1\"/>\r\n<title>405 - HTTP verb used to access this page is not allowed.</title>\r\n<style type=\"text/css\">\r\n<!--\r\nbody{margin:0;font-size:.7em;font-family:Verdana, Arial, Helvetica, sans-serif;background:#EEEEEE;}\r\nfieldset{padding:0 15px 10px 15px;} \r\nh1{font-size:2.4em;margin:0;color:#FFF;}\r\nh2{font-size:1.7em;margin:0;color:#CC0000;} \r\nh3{font-size:1.2em;margin:10px 0 0 0;color:#000000;} \r\n#header{width:96%;margin:0 0 0 0;padding:6px 2% 6px 2%;font-family:\"trebuchet MS\", Verdana, sans-serif;color:#FFF;\r\nbackground-color:#555555;}\r\n#content{margin:0 0 0 2%;position:relative;}\r\n.content-container{background:#FFF;width:96%;margin-top:8px;padding:10px;position:relative;}\r\n-->\r\n</style>\r\n</head>\r\n<body>\r\n<div id=\"header\"><h1>Server Error</h1></div>\r\n<div id=\"content\">\r\n <div class=\"content-container\"><fieldset>\r\n  <h2>405 - HTTP verb used to access this page is not allowed.</h2>\r\n  <h3>The page you are looking for cannot be displayed because an invalid method (HTTP verb) was used to attempt access.</h3>\r\n </fieldset></div>\r\n</div>\r\n</body>\r\n</html>\r\n",
     "output_type": "error",
     "traceback": [
      "\u001b[0;31m---------------------------------------------------------------------------\u001b[0m",
      "\u001b[0;31mJSONDecodeError\u001b[0m                           Traceback (most recent call last)",
      "\u001b[0;32m~/.local/lib/python3.6/site-packages/osmnx/downloader.py\u001b[0m in \u001b[0;36moverpass_request\u001b[0;34m(data, pause, error_pause)\u001b[0m\n\u001b[1;32m    652\u001b[0m         \u001b[0;32mtry\u001b[0m\u001b[0;34m:\u001b[0m\u001b[0;34m\u001b[0m\u001b[0;34m\u001b[0m\u001b[0m\n\u001b[0;32m--> 653\u001b[0;31m             \u001b[0mresponse_json\u001b[0m \u001b[0;34m=\u001b[0m \u001b[0mresponse\u001b[0m\u001b[0;34m.\u001b[0m\u001b[0mjson\u001b[0m\u001b[0;34m(\u001b[0m\u001b[0;34m)\u001b[0m\u001b[0;34m\u001b[0m\u001b[0;34m\u001b[0m\u001b[0m\n\u001b[0m\u001b[1;32m    654\u001b[0m             \u001b[0;32mif\u001b[0m \u001b[0;34m\"remark\"\u001b[0m \u001b[0;32min\u001b[0m \u001b[0mresponse_json\u001b[0m\u001b[0;34m:\u001b[0m\u001b[0;34m\u001b[0m\u001b[0;34m\u001b[0m\u001b[0m\n",
      "\u001b[0;32m~/.local/lib/python3.6/site-packages/requests/models.py\u001b[0m in \u001b[0;36mjson\u001b[0;34m(self, **kwargs)\u001b[0m\n\u001b[1;32m    897\u001b[0m                     \u001b[0;32mpass\u001b[0m\u001b[0;34m\u001b[0m\u001b[0;34m\u001b[0m\u001b[0m\n\u001b[0;32m--> 898\u001b[0;31m         \u001b[0;32mreturn\u001b[0m \u001b[0mcomplexjson\u001b[0m\u001b[0;34m.\u001b[0m\u001b[0mloads\u001b[0m\u001b[0;34m(\u001b[0m\u001b[0mself\u001b[0m\u001b[0;34m.\u001b[0m\u001b[0mtext\u001b[0m\u001b[0;34m,\u001b[0m \u001b[0;34m**\u001b[0m\u001b[0mkwargs\u001b[0m\u001b[0;34m)\u001b[0m\u001b[0;34m\u001b[0m\u001b[0;34m\u001b[0m\u001b[0m\n\u001b[0m\u001b[1;32m    899\u001b[0m \u001b[0;34m\u001b[0m\u001b[0m\n",
      "\u001b[0;32m/usr/lib/python3/dist-packages/simplejson/__init__.py\u001b[0m in \u001b[0;36mloads\u001b[0;34m(s, encoding, cls, object_hook, parse_float, parse_int, parse_constant, object_pairs_hook, use_decimal, **kw)\u001b[0m\n\u001b[1;32m    517\u001b[0m             and not use_decimal and not kw):\n\u001b[0;32m--> 518\u001b[0;31m         \u001b[0;32mreturn\u001b[0m \u001b[0m_default_decoder\u001b[0m\u001b[0;34m.\u001b[0m\u001b[0mdecode\u001b[0m\u001b[0;34m(\u001b[0m\u001b[0ms\u001b[0m\u001b[0;34m)\u001b[0m\u001b[0;34m\u001b[0m\u001b[0;34m\u001b[0m\u001b[0m\n\u001b[0m\u001b[1;32m    519\u001b[0m     \u001b[0;32mif\u001b[0m \u001b[0mcls\u001b[0m \u001b[0;32mis\u001b[0m \u001b[0;32mNone\u001b[0m\u001b[0;34m:\u001b[0m\u001b[0;34m\u001b[0m\u001b[0;34m\u001b[0m\u001b[0m\n",
      "\u001b[0;32m/usr/lib/python3/dist-packages/simplejson/decoder.py\u001b[0m in \u001b[0;36mdecode\u001b[0;34m(self, s, _w, _PY3)\u001b[0m\n\u001b[1;32m    369\u001b[0m             \u001b[0ms\u001b[0m \u001b[0;34m=\u001b[0m \u001b[0ms\u001b[0m\u001b[0;34m.\u001b[0m\u001b[0mdecode\u001b[0m\u001b[0;34m(\u001b[0m\u001b[0mself\u001b[0m\u001b[0;34m.\u001b[0m\u001b[0mencoding\u001b[0m\u001b[0;34m)\u001b[0m\u001b[0;34m\u001b[0m\u001b[0;34m\u001b[0m\u001b[0m\n\u001b[0;32m--> 370\u001b[0;31m         \u001b[0mobj\u001b[0m\u001b[0;34m,\u001b[0m \u001b[0mend\u001b[0m \u001b[0;34m=\u001b[0m \u001b[0mself\u001b[0m\u001b[0;34m.\u001b[0m\u001b[0mraw_decode\u001b[0m\u001b[0;34m(\u001b[0m\u001b[0ms\u001b[0m\u001b[0;34m)\u001b[0m\u001b[0;34m\u001b[0m\u001b[0;34m\u001b[0m\u001b[0m\n\u001b[0m\u001b[1;32m    371\u001b[0m         \u001b[0mend\u001b[0m \u001b[0;34m=\u001b[0m \u001b[0m_w\u001b[0m\u001b[0;34m(\u001b[0m\u001b[0ms\u001b[0m\u001b[0;34m,\u001b[0m \u001b[0mend\u001b[0m\u001b[0;34m)\u001b[0m\u001b[0;34m.\u001b[0m\u001b[0mend\u001b[0m\u001b[0;34m(\u001b[0m\u001b[0;34m)\u001b[0m\u001b[0;34m\u001b[0m\u001b[0;34m\u001b[0m\u001b[0m\n",
      "\u001b[0;32m/usr/lib/python3/dist-packages/simplejson/decoder.py\u001b[0m in \u001b[0;36mraw_decode\u001b[0;34m(self, s, idx, _w, _PY3)\u001b[0m\n\u001b[1;32m    399\u001b[0m                 \u001b[0midx\u001b[0m \u001b[0;34m+=\u001b[0m \u001b[0;36m3\u001b[0m\u001b[0;34m\u001b[0m\u001b[0;34m\u001b[0m\u001b[0m\n\u001b[0;32m--> 400\u001b[0;31m         \u001b[0;32mreturn\u001b[0m \u001b[0mself\u001b[0m\u001b[0;34m.\u001b[0m\u001b[0mscan_once\u001b[0m\u001b[0;34m(\u001b[0m\u001b[0ms\u001b[0m\u001b[0;34m,\u001b[0m \u001b[0midx\u001b[0m\u001b[0;34m=\u001b[0m\u001b[0m_w\u001b[0m\u001b[0;34m(\u001b[0m\u001b[0ms\u001b[0m\u001b[0;34m,\u001b[0m \u001b[0midx\u001b[0m\u001b[0;34m)\u001b[0m\u001b[0;34m.\u001b[0m\u001b[0mend\u001b[0m\u001b[0;34m(\u001b[0m\u001b[0;34m)\u001b[0m\u001b[0;34m)\u001b[0m\u001b[0;34m\u001b[0m\u001b[0;34m\u001b[0m\u001b[0m\n\u001b[0m",
      "\u001b[0;31mJSONDecodeError\u001b[0m: Expecting value: line 1 column 1 (char 0)",
      "\nDuring handling of the above exception, another exception occurred:\n",
      "\u001b[0;31mException\u001b[0m                                 Traceback (most recent call last)",
      "\u001b[0;32m<ipython-input-3-72ea30c79da9>\u001b[0m in \u001b[0;36m<module>\u001b[0;34m\u001b[0m\n\u001b[1;32m      1\u001b[0m \u001b[0mlocation_point\u001b[0m \u001b[0;34m=\u001b[0m \u001b[0;34m(\u001b[0m\u001b[0;36m43.661667\u001b[0m\u001b[0;34m,\u001b[0m \u001b[0;34m-\u001b[0m\u001b[0;36m79.395\u001b[0m\u001b[0;34m)\u001b[0m\u001b[0;34m\u001b[0m\u001b[0;34m\u001b[0m\u001b[0m\n\u001b[0;32m----> 2\u001b[0;31m \u001b[0mG\u001b[0m \u001b[0;34m=\u001b[0m \u001b[0mox\u001b[0m\u001b[0;34m.\u001b[0m\u001b[0mgraph_from_point\u001b[0m\u001b[0;34m(\u001b[0m\u001b[0mlocation_point\u001b[0m\u001b[0;34m,\u001b[0m \u001b[0mdist\u001b[0m\u001b[0;34m=\u001b[0m\u001b[0;36m300\u001b[0m\u001b[0;34m,\u001b[0m \u001b[0mclean_periphery\u001b[0m\u001b[0;34m=\u001b[0m\u001b[0;32mTrue\u001b[0m\u001b[0;34m,\u001b[0m \u001b[0msimplify\u001b[0m\u001b[0;34m=\u001b[0m\u001b[0;32mTrue\u001b[0m\u001b[0;34m)\u001b[0m\u001b[0;34m\u001b[0m\u001b[0;34m\u001b[0m\u001b[0m\n\u001b[0m\u001b[1;32m      3\u001b[0m \u001b[0mgraph_map\u001b[0m \u001b[0;34m=\u001b[0m \u001b[0mox\u001b[0m\u001b[0;34m.\u001b[0m\u001b[0mplot_graph_folium\u001b[0m\u001b[0;34m(\u001b[0m\u001b[0mG\u001b[0m\u001b[0;34m,\u001b[0m \u001b[0mpopup_attribute\u001b[0m\u001b[0;34m=\u001b[0m\u001b[0;34m'name'\u001b[0m\u001b[0;34m,\u001b[0m \u001b[0medge_width\u001b[0m\u001b[0;34m=\u001b[0m\u001b[0;36m2\u001b[0m\u001b[0;34m)\u001b[0m\u001b[0;34m\u001b[0m\u001b[0;34m\u001b[0m\u001b[0m\n\u001b[1;32m      4\u001b[0m \u001b[0mfig\u001b[0m\u001b[0;34m,\u001b[0m \u001b[0max\u001b[0m \u001b[0;34m=\u001b[0m \u001b[0mox\u001b[0m\u001b[0;34m.\u001b[0m\u001b[0mplot_graph\u001b[0m\u001b[0;34m(\u001b[0m\u001b[0mG\u001b[0m\u001b[0;34m)\u001b[0m\u001b[0;34m\u001b[0m\u001b[0;34m\u001b[0m\u001b[0m\n",
      "\u001b[0;32m~/.local/lib/python3.6/site-packages/osmnx/graph.py\u001b[0m in \u001b[0;36mgraph_from_point\u001b[0;34m(center_point, dist, dist_type, network_type, simplify, retain_all, truncate_by_edge, clean_periphery, custom_filter)\u001b[0m\n\u001b[1;32m    165\u001b[0m         \u001b[0mtruncate_by_edge\u001b[0m\u001b[0;34m=\u001b[0m\u001b[0mtruncate_by_edge\u001b[0m\u001b[0;34m,\u001b[0m\u001b[0;34m\u001b[0m\u001b[0;34m\u001b[0m\u001b[0m\n\u001b[1;32m    166\u001b[0m         \u001b[0mclean_periphery\u001b[0m\u001b[0;34m=\u001b[0m\u001b[0mclean_periphery\u001b[0m\u001b[0;34m,\u001b[0m\u001b[0;34m\u001b[0m\u001b[0;34m\u001b[0m\u001b[0m\n\u001b[0;32m--> 167\u001b[0;31m         \u001b[0mcustom_filter\u001b[0m\u001b[0;34m=\u001b[0m\u001b[0mcustom_filter\u001b[0m\u001b[0;34m,\u001b[0m\u001b[0;34m\u001b[0m\u001b[0;34m\u001b[0m\u001b[0m\n\u001b[0m\u001b[1;32m    168\u001b[0m     )\n\u001b[1;32m    169\u001b[0m \u001b[0;34m\u001b[0m\u001b[0m\n",
      "\u001b[0;32m~/.local/lib/python3.6/site-packages/osmnx/graph.py\u001b[0m in \u001b[0;36mgraph_from_bbox\u001b[0;34m(north, south, east, west, network_type, simplify, retain_all, truncate_by_edge, clean_periphery, custom_filter)\u001b[0m\n\u001b[1;32m     86\u001b[0m         \u001b[0mtruncate_by_edge\u001b[0m\u001b[0;34m=\u001b[0m\u001b[0mtruncate_by_edge\u001b[0m\u001b[0;34m,\u001b[0m\u001b[0;34m\u001b[0m\u001b[0;34m\u001b[0m\u001b[0m\n\u001b[1;32m     87\u001b[0m         \u001b[0mclean_periphery\u001b[0m\u001b[0;34m=\u001b[0m\u001b[0mclean_periphery\u001b[0m\u001b[0;34m,\u001b[0m\u001b[0;34m\u001b[0m\u001b[0;34m\u001b[0m\u001b[0m\n\u001b[0;32m---> 88\u001b[0;31m         \u001b[0mcustom_filter\u001b[0m\u001b[0;34m=\u001b[0m\u001b[0mcustom_filter\u001b[0m\u001b[0;34m,\u001b[0m\u001b[0;34m\u001b[0m\u001b[0;34m\u001b[0m\u001b[0m\n\u001b[0m\u001b[1;32m     89\u001b[0m     )\n\u001b[1;32m     90\u001b[0m \u001b[0;34m\u001b[0m\u001b[0m\n",
      "\u001b[0;32m~/.local/lib/python3.6/site-packages/osmnx/graph.py\u001b[0m in \u001b[0;36mgraph_from_polygon\u001b[0;34m(polygon, network_type, simplify, retain_all, truncate_by_edge, clean_periphery, custom_filter)\u001b[0m\n\u001b[1;32m    421\u001b[0m \u001b[0;34m\u001b[0m\u001b[0m\n\u001b[1;32m    422\u001b[0m         \u001b[0;31m# download the network data from OSM within buffered polygon\u001b[0m\u001b[0;34m\u001b[0m\u001b[0;34m\u001b[0m\u001b[0;34m\u001b[0m\u001b[0m\n\u001b[0;32m--> 423\u001b[0;31m         \u001b[0mresponse_jsons\u001b[0m \u001b[0;34m=\u001b[0m \u001b[0mdownloader\u001b[0m\u001b[0;34m.\u001b[0m\u001b[0m_osm_net_download\u001b[0m\u001b[0;34m(\u001b[0m\u001b[0mpoly_buff\u001b[0m\u001b[0;34m,\u001b[0m \u001b[0mnetwork_type\u001b[0m\u001b[0;34m,\u001b[0m \u001b[0mcustom_filter\u001b[0m\u001b[0;34m)\u001b[0m\u001b[0;34m\u001b[0m\u001b[0;34m\u001b[0m\u001b[0m\n\u001b[0m\u001b[1;32m    424\u001b[0m         \u001b[0mbidirectional\u001b[0m \u001b[0;34m=\u001b[0m \u001b[0mnetwork_type\u001b[0m \u001b[0;32min\u001b[0m \u001b[0msettings\u001b[0m\u001b[0;34m.\u001b[0m\u001b[0mbidirectional_network_types\u001b[0m\u001b[0;34m\u001b[0m\u001b[0;34m\u001b[0m\u001b[0m\n\u001b[1;32m    425\u001b[0m \u001b[0;34m\u001b[0m\u001b[0m\n",
      "\u001b[0;32m~/.local/lib/python3.6/site-packages/osmnx/downloader.py\u001b[0m in \u001b[0;36m_osm_net_download\u001b[0;34m(polygon, network_type, custom_filter)\u001b[0m\n\u001b[1;32m    442\u001b[0m     \u001b[0;32mfor\u001b[0m \u001b[0mpolygon_coord_str\u001b[0m \u001b[0;32min\u001b[0m \u001b[0mpolygon_coord_strs\u001b[0m\u001b[0;34m:\u001b[0m\u001b[0;34m\u001b[0m\u001b[0;34m\u001b[0m\u001b[0m\n\u001b[1;32m    443\u001b[0m         \u001b[0mquery_str\u001b[0m \u001b[0;34m=\u001b[0m \u001b[0;34mf\"{overpass_settings};(way{osm_filter}(poly:'{polygon_coord_str}');>;);out;\"\u001b[0m\u001b[0;34m\u001b[0m\u001b[0;34m\u001b[0m\u001b[0m\n\u001b[0;32m--> 444\u001b[0;31m         \u001b[0mresponse_json\u001b[0m \u001b[0;34m=\u001b[0m \u001b[0moverpass_request\u001b[0m\u001b[0;34m(\u001b[0m\u001b[0mdata\u001b[0m\u001b[0;34m=\u001b[0m\u001b[0;34m{\u001b[0m\u001b[0;34m\"data\"\u001b[0m\u001b[0;34m:\u001b[0m \u001b[0mquery_str\u001b[0m\u001b[0;34m}\u001b[0m\u001b[0;34m)\u001b[0m\u001b[0;34m\u001b[0m\u001b[0;34m\u001b[0m\u001b[0m\n\u001b[0m\u001b[1;32m    445\u001b[0m         \u001b[0mresponse_jsons\u001b[0m\u001b[0;34m.\u001b[0m\u001b[0mappend\u001b[0m\u001b[0;34m(\u001b[0m\u001b[0mresponse_json\u001b[0m\u001b[0;34m)\u001b[0m\u001b[0;34m\u001b[0m\u001b[0;34m\u001b[0m\u001b[0m\n\u001b[1;32m    446\u001b[0m     utils.log(\n",
      "\u001b[0;32m~/.local/lib/python3.6/site-packages/osmnx/downloader.py\u001b[0m in \u001b[0;36moverpass_request\u001b[0;34m(data, pause, error_pause)\u001b[0m\n\u001b[1;32m    669\u001b[0m                 \u001b[0;31m# else, this was an unhandled status_code, throw an exception\u001b[0m\u001b[0;34m\u001b[0m\u001b[0;34m\u001b[0m\u001b[0;34m\u001b[0m\u001b[0m\n\u001b[1;32m    670\u001b[0m                 \u001b[0mutils\u001b[0m\u001b[0;34m.\u001b[0m\u001b[0mlog\u001b[0m\u001b[0;34m(\u001b[0m\u001b[0;34mf\"{domain} returned {sc}\"\u001b[0m\u001b[0;34m,\u001b[0m \u001b[0mlevel\u001b[0m\u001b[0;34m=\u001b[0m\u001b[0mlg\u001b[0m\u001b[0;34m.\u001b[0m\u001b[0mERROR\u001b[0m\u001b[0;34m)\u001b[0m\u001b[0;34m\u001b[0m\u001b[0;34m\u001b[0m\u001b[0m\n\u001b[0;32m--> 671\u001b[0;31m                 \u001b[0;32mraise\u001b[0m \u001b[0mException\u001b[0m\u001b[0;34m(\u001b[0m\u001b[0;34mf\"Server returned\\n{response} {response.reason}\\n{response.text}\"\u001b[0m\u001b[0;34m)\u001b[0m\u001b[0;34m\u001b[0m\u001b[0;34m\u001b[0m\u001b[0m\n\u001b[0m\u001b[1;32m    672\u001b[0m \u001b[0;34m\u001b[0m\u001b[0m\n\u001b[1;32m    673\u001b[0m         \u001b[0m_save_to_cache\u001b[0m\u001b[0;34m(\u001b[0m\u001b[0mprepared_url\u001b[0m\u001b[0;34m,\u001b[0m \u001b[0mresponse_json\u001b[0m\u001b[0;34m)\u001b[0m\u001b[0;34m\u001b[0m\u001b[0;34m\u001b[0m\u001b[0m\n",
      "\u001b[0;31mException\u001b[0m: Server returned\n<Response [405]> Method Not Allowed\n<!DOCTYPE html PUBLIC \"-//W3C//DTD XHTML 1.0 Strict//EN\" \"http://www.w3.org/TR/xhtml1/DTD/xhtml1-strict.dtd\">\r\n<html xmlns=\"http://www.w3.org/1999/xhtml\">\r\n<head>\r\n<meta http-equiv=\"Content-Type\" content=\"text/html; charset=iso-8859-1\"/>\r\n<title>405 - HTTP verb used to access this page is not allowed.</title>\r\n<style type=\"text/css\">\r\n<!--\r\nbody{margin:0;font-size:.7em;font-family:Verdana, Arial, Helvetica, sans-serif;background:#EEEEEE;}\r\nfieldset{padding:0 15px 10px 15px;} \r\nh1{font-size:2.4em;margin:0;color:#FFF;}\r\nh2{font-size:1.7em;margin:0;color:#CC0000;} \r\nh3{font-size:1.2em;margin:10px 0 0 0;color:#000000;} \r\n#header{width:96%;margin:0 0 0 0;padding:6px 2% 6px 2%;font-family:\"trebuchet MS\", Verdana, sans-serif;color:#FFF;\r\nbackground-color:#555555;}\r\n#content{margin:0 0 0 2%;position:relative;}\r\n.content-container{background:#FFF;width:96%;margin-top:8px;padding:10px;position:relative;}\r\n-->\r\n</style>\r\n</head>\r\n<body>\r\n<div id=\"header\"><h1>Server Error</h1></div>\r\n<div id=\"content\">\r\n <div class=\"content-container\"><fieldset>\r\n  <h2>405 - HTTP verb used to access this page is not allowed.</h2>\r\n  <h3>The page you are looking for cannot be displayed because an invalid method (HTTP verb) was used to attempt access.</h3>\r\n </fieldset></div>\r\n</div>\r\n</body>\r\n</html>\r\n"
     ]
    }
   ],
   "source": [
    "location_point = (43.661667, -79.395)\n",
    "G = ox.graph_from_point(location_point, dist=300, clean_periphery=True, simplify=True)\n",
    "fig, ax = ox.plot_graph(G)"
   ]
  },
  {
   "cell_type": "markdown",
   "metadata": {},
   "source": [
    "Here you need to specify which node from our graph is the source (Equestrian Statue of Edward VII) and which is the destination node (Bahen Center of Technology). You can do so by acquiring the decimal coordinates of the desired node and use [```osmnx.distance.get_nearest_node```](https://osmnx.readthedocs.io/en/stable/osmnx.html#osmnx.distance.get_nearest_node) method"
   ]
  },
  {
   "cell_type": "markdown",
   "metadata": {},
   "source": [
    "I used the aforementioned method and found that the nodes for destination and source are 389677909, 55808290 respectively"
   ]
  },
  {
   "cell_type": "code",
   "execution_count": null,
   "metadata": {},
   "outputs": [],
   "source": [
    "highlighted = [389677909, 55808290]\n",
    "\n",
    "# marking both the source and destination node\n",
    "\n",
    "nc = ['r' if node in highlighted else '#336699' for node in G.nodes()]\n",
    "ns = [50 if node in highlighted else 8 for node in G.nodes()]\n",
    "fig, ax = ox.plot_graph(G, node_size=ns, node_color=nc, node_zorder=2)"
   ]
  },
  {
   "cell_type": "code",
   "execution_count": null,
   "metadata": {},
   "outputs": [],
   "source": [
    "draw_map(G, highlight = highlighted)"
   ]
  },
  {
   "cell_type": "code",
   "execution_count": null,
   "metadata": {},
   "outputs": [],
   "source": [
    "source(Node)"
   ]
  },
  {
   "cell_type": "markdown",
   "metadata": {},
   "source": [
    "We are implementing A* based bi-directional search algorithm, so our criteria of expansion, either from source frontier or destination destination frontier is the A* heuristic.  \n",
    "\n",
    "Please note the following:  \n",
    "\n",
    "1. the origin and destination for the expansion from destionation node are reversed\n",
    "2. `f` stands for frontier (source expansion), `b` stands for back (destination expansion)\n"
   ]
  },
  {
   "cell_type": "code",
   "execution_count": null,
   "metadata": {},
   "outputs": [],
   "source": [
    "# first define the origin/source nodes as Node\n",
    "origin = Node(graph = G, osmid = 55808290)\n",
    "destination = Node(graph = G, osmid = 389677909)\n",
    "destination_b = origin\n",
    "origin_b = destination"
   ]
  },
  {
   "cell_type": "code",
   "execution_count": null,
   "metadata": {},
   "outputs": [],
   "source": [
    "toGoal_f, toDestination_f = astar_heuristic(G, origin.osmid, destination.osmid)\n",
    "toGoal_b, toDestination_b = astar_heuristic(G, origin_b.osmid, destination_b.osmid)"
   ]
  },
  {
   "cell_type": "code",
   "execution_count": null,
   "metadata": {},
   "outputs": [],
   "source": [
    "%%time\n",
    "route = []\n",
    "\n",
    "# uncomment the following line to see the progress bar\n",
    "\n",
    "bar = tqdm(total=len(G))\n",
    "\n",
    "f_value = lambda node: toGoal_f[node.osmid] + toDestination_f[node.osmid]\n",
    "b_value = lambda node: toGoal_b[node.osmid] + toDestination_b[node.osmid]\n",
    "\n",
    "frontier_f = list()\n",
    "frontier_b = list()\n",
    "\n",
    "frontier_f.append(origin)\n",
    "frontier_b.append(origin_b)\n",
    "\n",
    "explored_f = list()\n",
    "explored_b = list()\n",
    "\n",
    "collide = False\n",
    "found = False\n",
    "altr_exapnd = False # to alternate between front and back\n",
    "\n",
    "while frontier_f and frontier_b and not collide and not found:\n",
    "    bar.update(1); time.sleep(0.05)\n",
    "    \n",
    "    if altr_exapnd:\n",
    "        # remove node_f from frontier_f to expand it\n",
    "        node = min(frontier_f, key = lambda node : f_value(node))\n",
    "        frontier_f.remove(node)\n",
    "        explored_f.append(node)\n",
    "        \n",
    "        # if we expanded the destination -- we have our route\n",
    "        # if we expanded a node that were expanded from the other expansion\n",
    "        # nodes have overlapped and we stitch the route from origin\n",
    "        # to that node and the route from that node to destination\n",
    "        for child in node.expand():\n",
    "            if child in explored_f: continue\n",
    "            \n",
    "            if child == destination:\n",
    "                route = child.path()\n",
    "                found = True\n",
    "                break\n",
    "\n",
    "            # checking the explored_f to stitch the node we the overlapped one\n",
    "            # stitched front route to back route\n",
    "            if child in explored_b:\n",
    "                overlapped = next((node for node in explored_b if node == child))\n",
    "                # we don't take the overlapped node twice\n",
    "                route = child.path()[:-1] + overlapped.path()[::-1]\n",
    "                collide = True\n",
    "                break\n",
    "\n",
    "            frontier_f.append(child)\n",
    "        altr_exapnd = False\n",
    "    else:\n",
    "        # remove node_b from frontier_b to expand it\n",
    "        node = min(frontier_b, key = lambda node : b_value(node))\n",
    "        frontier_b.remove(node)\n",
    "        explored_b.append(node)\n",
    "        \n",
    "        for child in node.expand():\n",
    "            if child in explored_b: continue\n",
    "            if child == destination_b:\n",
    "                route = child.path()[::-1] # we reverse the list because we expand from the back\n",
    "                found = True\n",
    "                break\n",
    "\n",
    "            if child in explored_f:\n",
    "                overlapped = next((node for node in explored_f if node == child), None)\n",
    "                route = overlapped.path()[:-1] + child.path()[::-1]\n",
    "                collide = True\n",
    "                break\n",
    "\n",
    "            frontier_b.append(child)\n",
    "        altr_exapnd = True\n",
    "\n",
    "\n",
    "bar.close()\n",
    "print(\"The route is \\n\\n\",route, \"\\n\\nits cost is\\n\\n\", cost(G, route))"
   ]
  },
  {
   "cell_type": "markdown",
   "metadata": {},
   "source": [
    "remember that we had to expand 92 nodes in the normal astar search algorithm instead of 50 nodes here, so we have eliminated half of the search space"
   ]
  },
  {
   "cell_type": "code",
   "execution_count": null,
   "metadata": {},
   "outputs": [],
   "source": [
    "draw_route(G, route)"
   ]
  },
  {
   "cell_type": "markdown",
   "metadata": {},
   "source": [
    "## Notes  \n",
    "\n",
    "### About the algorithm\n",
    "* As you can see we alternate between expansion from the front frontier and back frontier until the two frontiers collide at the middle and then stitch the two routes of the colliding nodes and voila you get your route.\n",
    "* This alternation is one way to implement bi-directional, but here is another one where the **alternation** between front expansion and back expansion based on a heuristic not turn by turn.\n",
    "* The heuristic will compute a value for the node to be expanded from the front and the node to be expanded from the back and choose which one to expand.\n",
    "* As example you can check the length of edge between the parent node and the node to be expanded at the two frontiers, and choose the frontier that makes you take the edge with the minimum length -- this is how bi-directional dijkstra is usually implemented in literature and once you choose a certain frontier you expand and relax and implement the typical dijkstra algorithm.\n",
    "\n",
    "---\n",
    "\n",
    "### About the implementation\n",
    "* The graph is multi-digraph as you probably know, so we can have an edge from \"a\" to \"b\" but not from \"b\" to \"a\", in other words; one way street or two way street.  \n",
    "* When the collusion happens between front expansion and expanded nodes at the back, we get a route from source to the node and a route from destination to the node and then reverse that route from destination to the route, to have a single route from source to destination.\n",
    "* When we reverse the destination route, we have no idea of edges between this new sequence of nodes whould have edge when reversed, but we are sure they have an edge in the other direction -- one way and two way streets.\n",
    "* We handle that by try the original sequence in the route list, if two consecutive nodes produced an exception they we reverse them and get the edge in the other direction -- which maybe another edge completely.\n",
    "* That is why the ant path changes its direction at the middle of the route.  \n",
    "* This can be solved by check the validity of the reversed route and discard the route if there is only a one street way.\n",
    "\n",
    "In our example we have and edge from 24960080 to 3707407641 but we don't have an edge from 3707407641 to 24960080.\n",
    "That is why we don't use [`ox.plot_graph_route`](https://osmnx.readthedocs.io/en/stable/osmnx.html#osmnx.plot.plot_graph_route) because it can't handle this situation\n",
    "\n",
    "So the above algorithm may fail on some instances but the fix is very easy but super ugly and would destruct the \"clearity\" of the code so we skipped it, but here is what you want to do:\n",
    "\n",
    "1. After collusion check the validity of the reversed route\n",
    "2. If it is invalid, delete the node that caused the collusion from the graph and proceed to the next iteration\n",
    "\n",
    "OR\n",
    "\n",
    "Fix that route by deleting the node from the route that caused the discontinuity and find the shortest path that would replace that gap between the node before and the node after using `shortest_path_with_failed_nodes`, so the final route would be approximation for the actual search result but pretty good AND correct approximation.\n",
    "\n",
    "So as you can see the algorithms for SP are very easy and intuitive, but you need to deal with a lot of corner cases to deal with multigraphs.\n",
    "\n"
   ]
  },
  {
   "cell_type": "code",
   "execution_count": null,
   "metadata": {},
   "outputs": [],
   "source": []
  }
 ],
 "metadata": {
  "kernelspec": {
   "display_name": "Python 3",
   "language": "python",
   "name": "python3"
  },
  "language_info": {
   "codemirror_mode": {
    "name": "ipython",
    "version": 3
   },
   "file_extension": ".py",
   "mimetype": "text/x-python",
   "name": "python",
   "nbconvert_exporter": "python",
   "pygments_lexer": "ipython3",
   "version": "3.6.9"
  }
 },
 "nbformat": 4,
 "nbformat_minor": 4
}
